{
 "cells": [
  {
   "cell_type": "markdown",
   "metadata": {},
   "source": [
    "# Integrative Genomics Viewer (IGV) in a Jupyter Notebook Cell\n",
    "\n",
    "The [Integrative Genomics Viewer](http://igv.org)<sup>1</sup> (IGV) is an open source tool for visualizing and exploring genomic data. [Terra natively supports IGV](https://support.terra.bio/hc/en-us/articles/360029654831-Viewing-IGV-tracks-of-BAM-files-in-your-workspace-data) in the Workspace data tab, but it's also possible to run IGV in a Jupyter notebook using the [`igv-jupyter` extension](https://github.com/igvteam/igv-jupyter).\n",
    "\n",
    "`igv-jupyter` wraps the embeddable JavaScript `igv-js` visualization component and runs a fully-featured IGV instance live in notebook cells. This means you won't be able to view IGV in Terra's Notebook `Preview` mode.  You'll need to run this notebook yourself in `Edit` or `Playground` mode, since the IGV instance can't be saved as notebook outputs.\n",
    "\n",
    "**IMPORTANT**: You may need to follow the instructions in the \"Prerequisites for `igv-jupyter`\" section if `igv-jupyter` has not been installed in your environment. A [request](https://github.com/DataBiosphere/terra-docker/issues/271) has been filed to add it to the base `terra-docker` environment.\n",
    "\n",
    "Run the next cell to determine if the `igv` module provided by `igv-jupyter` exists in your cloud environment.\n",
    "\n",
    "***\n",
    "\n",
    "<sup>1</sup>[James T. Robinson, Helga Thorvaldsdóttir, Wendy Winckler, Mitchell Guttman, Eric S. Lander, Gad Getz, Jill P. Mesirov. Integrative Genomics Viewer. Nature Biotechnology 29, 24–26 (2011)](https://www.nature.com/articles/nbt.1754)"
   ]
  },
  {
   "cell_type": "code",
   "execution_count": null,
   "metadata": {},
   "outputs": [],
   "source": [
    "import imp\n",
    "try:\n",
    "    imp.find_module('igv')\n",
    "    igv_found = True\n",
    "except ImportError:\n",
    "    igv_found = False\n",
    "    \n",
    "print(f'igv {\"exists\" if igv_found else \"does NOT exist\"} in your cloud environment.')"
   ]
  },
  {
   "cell_type": "markdown",
   "metadata": {},
   "source": [
    "## Prerequisites for `igv-jupyter`\n",
    "### Cloud environment startup scripts\n",
    "\n",
    "If `igv-jupyter` has not been installed in your cloud environment, you can use an [environment startup script](https://support.terra.bio/hc/en-us/articles/360058193872-Using-a-startup-script-to-launch-a-pre-configured-cloud-environment) to install this extension when creating or updating your cloud environment.\n",
    "#### Setup workspace globals"
   ]
  },
  {
   "cell_type": "code",
   "execution_count": null,
   "metadata": {},
   "outputs": [],
   "source": [
    "# Imports for interacting with the environment and the FireCloud API\n",
    "import os\n",
    "from firecloud import api as fapi\n",
    "\n",
    "BILLING_PROJECT_ID = os.environ['GOOGLE_PROJECT']\n",
    "\n",
    "# Workspace metadata\n",
    "WORKSPACE_NAMESPACE = os.environ['WORKSPACE_NAMESPACE']\n",
    "WORKSPACE_NAME = os.environ['WORKSPACE_NAME']\n",
    "WORKSPACE_BUCKET = os.environ['WORKSPACE_BUCKET']\n",
    "\n",
    "# Key-value pairs from the \"Workspace Data\" section of the Worksapce \"Data\" tab\n",
    "WORKSPACE_ATTRIBUTES = fapi.get_workspace(WORKSPACE_NAMESPACE, WORKSPACE_NAME).json().get('workspace',{}).get('attributes',{})\n",
    "\n",
    "# The full path to the provided environment startup script\n",
    "IGV_ENV_STARTUP_SCRIPT_FILENAME = 'igv_env_startup_script.sh'\n",
    "IGV_ENV_STARTUP_SCRIPT_PATH = os.path.join(WORKSPACE_BUCKET, IGV_ENV_STARTUP_SCRIPT_FILENAME)\n",
    "print(IGV_ENV_STARTUP_SCRIPT_PATH)"
   ]
  },
  {
   "cell_type": "markdown",
   "metadata": {},
   "source": [
    "#### Write the startup script to the workspace bucket"
   ]
  },
  {
   "cell_type": "code",
   "execution_count": null,
   "metadata": {},
   "outputs": [],
   "source": [
    "script_contents = '''#!/usr/bin/env bash\n",
    "\n",
    "# Install igv to view the Integrative Genomics Viewer in a Terra notebook cell\n",
    "pip install igv-jupyter --upgrade\n",
    "jupyter nbextension install --py igv --user\n",
    "jupyter nbextension enable --py igv\n",
    "'''\n",
    "\n",
    "with open(IGV_ENV_STARTUP_SCRIPT_FILENAME, \"w\") as text_file:\n",
    "    text_file.write(script_contents)\n",
    "\n",
    "!gsutil cp $IGV_ENV_STARTUP_SCRIPT_FILENAME $IGV_ENV_STARTUP_SCRIPT_PATH"
   ]
  },
  {
   "cell_type": "markdown",
   "metadata": {},
   "source": [
    "#### Confirm the startup script has been written to the workspace bucket\n"
   ]
  },
  {
   "cell_type": "code",
   "execution_count": null,
   "metadata": {},
   "outputs": [],
   "source": [
    "!gsutil ls $IGV_ENV_STARTUP_SCRIPT_PATH"
   ]
  },
  {
   "cell_type": "markdown",
   "metadata": {},
   "source": [
    "#### Update the cloud environment\n",
    "\n",
    "Use the URI from the previous cell's output to complete the cloud environment update instructions in the [environment startup script documentation](https://support.terra.bio/hc/en-us/articles/360058193872-Using-a-startup-script-to-launch-a-pre-configured-cloud-environment).\n",
    "\n",
    "The cloud environment will restart, installing `igv-jupyter` and configuring Jupyter for it in the process. Your existing data on the workspace [persistent disk](https://support.terra.bio/hc/en-us/articles/360047318551-Detachable-Persistent-Disks-) will be preserved during the restart. The cloud environment restart will take you out of `Edit` or `Playground` mode and you'll need to click `Edit` or `Playground mode` to proceed.\n",
    "\n",
    "Now, `igv-jupyter` will be accessible to all notebooks in this workspace.\n",
    "\n",
    "**NOTE**: This environment startup script apparently prevents the terminal from loading. If you require access to the terminal after running this notebook, clear the `Startup script` text box and update the environment before launching the terminal."
   ]
  },
  {
   "cell_type": "markdown",
   "metadata": {},
   "source": [
    "### Enable trusted notebooks\n",
    "\n",
    "`igv-jupyter` runs JavaScript natively in a notebook cell. In order to allow this, the notebook must be `Trusted`. \n",
    "\n",
    "You must be in `Edit` or `Playground` mode to see if a notebook is `Trusted`. There is a text box in the Jupyter menu bar, toward the center of the screen. If that text box reads `Not Trusted`, click the text and then `OK` in the resulting popup to make the notebook `Trusted`.\n",
    "\n",
    "Click `Cell > Run All` in the Jupyter menu bar to run all of the cells in this notebook and try out the IGV viewer."
   ]
  },
  {
   "cell_type": "markdown",
   "metadata": {},
   "source": [
    "# Setup"
   ]
  },
  {
   "cell_type": "markdown",
   "metadata": {},
   "source": [
    "## Import libraries"
   ]
  },
  {
   "cell_type": "code",
   "execution_count": null,
   "metadata": {},
   "outputs": [],
   "source": [
    "# Base-64 encoding\n",
    "import base64\n",
    "\n",
    "# Filesystem path manipulation\n",
    "from pathlib import Path\n",
    "\n",
    "# gzip compression\n",
    "import gzip\n",
    "\n",
    "# The IGV browser library\n",
    "import igv\n",
    "\n",
    "# Pandas for DataFrame functionality\n",
    "import pandas as pd"
   ]
  },
  {
   "cell_type": "markdown",
   "metadata": {},
   "source": [
    "## Set up utility functions"
   ]
  },
  {
   "cell_type": "code",
   "execution_count": null,
   "metadata": {},
   "outputs": [],
   "source": [
    "# Utility routine to convert a string into a data URI usable in an IGV track configuration.\n",
    "def get_data_uri(s):\n",
    "    \"\"\"Converts a string s into a gzipped, base64-encode data URI\"\"\"\n",
    "    enc_str = base64.b64encode(gzip.compress(s.encode()))\n",
    "    return 'data:application/gzip;base64,' + str(enc_str)[2:-1]"
   ]
  },
  {
   "cell_type": "markdown",
   "metadata": {},
   "source": [
    "# Launch the IGV browser\n",
    "\n",
    "First, launch a default `igv.Browser` instance to visualize the `hg38` reference genome and explore the UI. \n",
    "\n",
    "You could:\n",
    "\n",
    "- Select a chromosome or other segment from the leftmost dropdown in the \"IGV\" bar.\n",
    "- Specifiy a genomic region in the search box next to the magnifying glass icon.\n",
    "- Click the \"-\" and \"+\" buttons to zoom in and out.\n",
    "- Select a new reference genome from the Genome dropdown.\n",
    "\n",
    "Some of the dropdown items spawn popups that do not render correctly in Terra, including:\n",
    "- `Tracks > URL`\n",
    "- `Session > URL`\n",
    "- `Session > Save`\n",
    "\n",
    "**These dropdown items will not work correctly in Terra notebook cells, and it is not recommended that you try to use them.** If you do, you may need to close the notebook and re-open it to clear them from the notebook's output."
   ]
  },
  {
   "cell_type": "code",
   "execution_count": null,
   "metadata": {},
   "outputs": [],
   "source": [
    "b = igv.Browser({'genome': 'hg38'})\n",
    "b.show()"
   ]
  },
  {
   "cell_type": "markdown",
   "metadata": {},
   "source": [
    "# Load `BED` files as custom tracks\n",
    "\n",
    "IGV allows users to upload their own track data in a variety of formats. See the [igv.js Tracks 2.0 page](https://github.com/igvteam/igv.js/wiki/Tracks-2.0) for details.\n",
    "\n",
    "As an example, visualize some [`BED`](http://genome.ucsc.edu/FAQ/FAQformat#format1) formatted data as annotated feature tracks in IGV along with the `hg38` reference track."
   ]
  },
  {
   "cell_type": "code",
   "execution_count": null,
   "metadata": {},
   "outputs": [],
   "source": [
    "# Sample BED file data\n",
    "BED_DATA = \"\"\"\n",
    "chr7    127471196  127472363  Pos1  0  +\n",
    "chr7    127472363  127473530  Pos2  0  +\n",
    "chr7    127473530  127474697  Pos3  0  +\n",
    "chr7    127474697  127475864  Pos4  0  +\n",
    "chr7    127475864  127477031  Neg1  0  -\n",
    "chr7    127477031  127478198  Neg2  0  -\n",
    "chr7    127478198  127479365  Neg3  0  -\n",
    "chr7    127479365  127480532  Pos5  0  +\n",
    "chr7    127480532  127481699  Neg4  0  -\n",
    "\"\"\"\n",
    "\n",
    "TRACK_NAME = 'sample_bed_data0'\n",
    "\n",
    "def bed_track_config(data, track_name):\n",
    "    \"\"\"Returns an IGV track configuration for BED file data `data` with track name `track_name`.\"\"\"\n",
    "    # Create a data URI from the BED file contents\n",
    "    data_uri = get_data_uri(data)\n",
    "    \n",
    "    # Return an IGV track configuration\n",
    "    return {\n",
    "        'name': track_name,\n",
    "        'type': 'annotation',\n",
    "        'format': 'bed',\n",
    "        'sourceType': 'file',\n",
    "        'url': data_uri,\n",
    "        'displayMode': 'EXPANDED'\n",
    "    }\n",
    "\n",
    "# Create an IGV browser instance\n",
    "b = igv.Browser({'genome': 'hg38'})\n",
    "\n",
    "# Create a IGV track configuration from the BED file at that path\n",
    "config = bed_track_config(BED_DATA, TRACK_NAME)\n",
    "    \n",
    "# Load the track configuration into the IGV browser\n",
    "b.load_track(config)\n",
    "\n",
    "# Zoom in to a region on chromosome 1\n",
    "b.search('chr7:127471196-127495720')\n",
    "\n",
    "# Show the IGV browser instance\n",
    "b.show()"
   ]
  },
  {
   "cell_type": "markdown",
   "metadata": {},
   "source": [
    "# Conclusion\n",
    "\n",
    "`igv-jupyter` provides a powerful, easy-to-use interface for working with IGV in a Jupyter notebook cell.  This notebook demonstrates just a small subset of its capabilities. \n",
    "\n",
    "If you're interested in learning more about what this extension can do, visit the [`igv-jupyter` GitHub repository](https://github.com/igvteam/igv-jupyter) and peruse the documentation."
   ]
  }
 ],
 "metadata": {
  "kernelspec": {
   "display_name": "Python 3",
   "language": "python",
   "name": "python3"
  },
  "language_info": {
   "codemirror_mode": {
    "name": "ipython",
    "version": 3
   },
   "file_extension": ".py",
   "mimetype": "text/x-python",
   "name": "python",
   "nbconvert_exporter": "python",
   "pygments_lexer": "ipython3",
   "version": "3.7.12"
  },
  "toc": {
   "base_numbering": 1,
   "nav_menu": {},
   "number_sections": true,
   "sideBar": true,
   "skip_h1_title": false,
   "title_cell": "Table of Contents",
   "title_sidebar": "Contents",
   "toc_cell": false,
   "toc_position": {},
   "toc_section_display": true,
   "toc_window_display": false
  }
 },
 "nbformat": 4,
 "nbformat_minor": 2
}
